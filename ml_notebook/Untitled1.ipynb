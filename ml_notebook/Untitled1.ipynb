{
 "cells": [
  {
   "cell_type": "code",
   "execution_count": null,
   "id": "f5748402",
   "metadata": {},
   "outputs": [],
   "source": [
    "df = df.rename(columns={\"Body\": \"\", \"Logistic_Regression\": \"\", \"Naive_Bayes\": \"\", \"Decision_Tree\": \"\", \"Passive_Aggressive_Classifier\": \"\"})\n",
    "username = \"postgres\"\n",
    "password = \"group4winners\"\n",
    "server = \"finalprojgroup4.c26jlhodxytp.us-east-2.rds.amazonaws.com\"\n",
    "database = \"FinalProjGroup4\"\n",
    "# create engine to police-violence-racial-equity postgres\n",
    "engine = create_engine(f'postgresql+psycopg2://{username}:{password}@{server}/{database}')\n",
    "# Create our session (link) from Python to the DB\n",
    "session = Session(engine)\n",
    "table_name = \"prediction_data\"\n",
    "df.to_sql(table_name, con=engine, if_exists='append')\n",
    "# Close Session\n",
    "session.close()"
   ]
  }
 ],
 "metadata": {
  "kernelspec": {
   "display_name": "Python [conda env:PythonAdv] *",
   "language": "python",
   "name": "conda-env-PythonAdv-py"
  },
  "language_info": {
   "codemirror_mode": {
    "name": "ipython",
    "version": 3
   },
   "file_extension": ".py",
   "mimetype": "text/x-python",
   "name": "python",
   "nbconvert_exporter": "python",
   "pygments_lexer": "ipython3",
   "version": "3.6.13"
  }
 },
 "nbformat": 4,
 "nbformat_minor": 5
}
