{
 "cells": [
  {
   "cell_type": "code",
   "execution_count": 1,
   "id": "f233ff10",
   "metadata": {},
   "outputs": [],
   "source": [
    "import pandas as pd\n",
    "import numpy as np\n",
    "import matplotlib.pyplot as plt"
   ]
  },
  {
   "cell_type": "code",
   "execution_count": 2,
   "id": "27008cc6",
   "metadata": {},
   "outputs": [],
   "source": [
    "train = pd.read_csv(\"train.csv\", sep='\\t', encoding='utf-8')\n",
    "test = pd.read_csv(\"test.csv\", sep='\\t', encoding='utf-8')"
   ]
  },
  {
   "cell_type": "code",
   "execution_count": 37,
   "id": "33da3131",
   "metadata": {},
   "outputs": [
    {
     "data": {
      "text/html": [
       "<div>\n",
       "<style scoped>\n",
       "    .dataframe tbody tr th:only-of-type {\n",
       "        vertical-align: middle;\n",
       "    }\n",
       "\n",
       "    .dataframe tbody tr th {\n",
       "        vertical-align: top;\n",
       "    }\n",
       "\n",
       "    .dataframe thead th {\n",
       "        text-align: right;\n",
       "    }\n",
       "</style>\n",
       "<table border=\"1\" class=\"dataframe\">\n",
       "  <thead>\n",
       "    <tr style=\"text-align: right;\">\n",
       "      <th></th>\n",
       "      <th>id</th>\n",
       "      <th>text</th>\n",
       "    </tr>\n",
       "  </thead>\n",
       "  <tbody>\n",
       "    <tr>\n",
       "      <th>0</th>\n",
       "      <td>4</td>\n",
       "      <td>WASHINGTON—In an effort to aid unhoused servic...</td>\n",
       "    </tr>\n",
       "  </tbody>\n",
       "</table>\n",
       "</div>"
      ],
      "text/plain": [
       "  id                                               text\n",
       "0  4  WASHINGTON—In an effort to aid unhoused servic..."
      ]
     },
     "execution_count": 37,
     "metadata": {},
     "output_type": "execute_result"
    }
   ],
   "source": [
    "record = \"WASHINGTON—In an effort to aid unhoused service members, the Department of Veteran Affairs announced Monday a new initiative to help get homeless veterans into bigger tents. “It’s frankly disgusting that these men and women who nobly served their country are consigned to sleeping in a cramped pop-up where they barely have room to stretch out, and we are committed to doing something about it,” said VA secretary Denis McDonough, telling reporters that the initiative would aim to provide former military personnel a high-quality 3-person tent with a screened-in porch area to host guests. “Our goal is to ensure that within the next five years, every hero who is sleeping on the ground can move into a luxurious REI tent containing multiple vestibules for clothing and personal possessions. And for those who need it, we will also provide a complimentary steel stake for them to fight off potential intruders.” McDonough added that this was only a temporary solution and the agency’s ultimate goal was to place all the homeless veterans in a giant circus tent where we never have to think about them again.\"\n",
    "id = \"4\"\n",
    "input_df= pd.DataFrame([[id, record]], columns=['id','text'])\n",
    "\n",
    "input_df"
   ]
  },
  {
   "cell_type": "code",
   "execution_count": 4,
   "id": "f3020c74",
   "metadata": {},
   "outputs": [
    {
     "data": {
      "text/html": [
       "<div>\n",
       "<style scoped>\n",
       "    .dataframe tbody tr th:only-of-type {\n",
       "        vertical-align: middle;\n",
       "    }\n",
       "\n",
       "    .dataframe tbody tr th {\n",
       "        vertical-align: top;\n",
       "    }\n",
       "\n",
       "    .dataframe thead th {\n",
       "        text-align: right;\n",
       "    }\n",
       "</style>\n",
       "<table border=\"1\" class=\"dataframe\">\n",
       "  <thead>\n",
       "    <tr style=\"text-align: right;\">\n",
       "      <th></th>\n",
       "      <th>id</th>\n",
       "      <th>text</th>\n",
       "    </tr>\n",
       "  </thead>\n",
       "  <tbody>\n",
       "    <tr>\n",
       "      <th>0</th>\n",
       "      <td>2</td>\n",
       "      <td>The 2017 Teen Choice Awards ceremony was held ...</td>\n",
       "    </tr>\n",
       "    <tr>\n",
       "      <th>1</th>\n",
       "      <td>3</td>\n",
       "      <td>The concert, part of “The Joshua Tree Tour,” w...</td>\n",
       "    </tr>\n",
       "    <tr>\n",
       "      <th>2</th>\n",
       "      <td>4</td>\n",
       "      <td>Selena Gomez refuses to talk to her mother abo...</td>\n",
       "    </tr>\n",
       "    <tr>\n",
       "      <th>3</th>\n",
       "      <td>5</td>\n",
       "      <td>This is worse than a lump of coal in your stoc...</td>\n",
       "    </tr>\n",
       "    <tr>\n",
       "      <th>4</th>\n",
       "      <td>6</td>\n",
       "      <td>Luann De Lesseps is going to rehab after her a...</td>\n",
       "    </tr>\n",
       "  </tbody>\n",
       "</table>\n",
       "</div>"
      ],
      "text/plain": [
       "   id                                               text\n",
       "0   2  The 2017 Teen Choice Awards ceremony was held ...\n",
       "1   3  The concert, part of “The Joshua Tree Tour,” w...\n",
       "2   4  Selena Gomez refuses to talk to her mother abo...\n",
       "3   5  This is worse than a lump of coal in your stoc...\n",
       "4   6  Luann De Lesseps is going to rehab after her a..."
      ]
     },
     "execution_count": 4,
     "metadata": {},
     "output_type": "execute_result"
    }
   ],
   "source": [
    "test.head()"
   ]
  },
  {
   "cell_type": "code",
   "execution_count": 5,
   "id": "9cd1f3c2",
   "metadata": {},
   "outputs": [
    {
     "name": "stderr",
     "output_type": "stream",
     "text": [
      "[nltk_data] Downloading package punkt to\n",
      "[nltk_data]     C:\\Users\\mlove\\AppData\\Roaming\\nltk_data...\n",
      "[nltk_data]   Package punkt is already up-to-date!\n",
      "[nltk_data] Downloading package stopwords to\n",
      "[nltk_data]     C:\\Users\\mlove\\AppData\\Roaming\\nltk_data...\n",
      "[nltk_data]   Package stopwords is already up-to-date!\n"
     ]
    },
    {
     "data": {
      "text/plain": [
       "True"
      ]
     },
     "execution_count": 5,
     "metadata": {},
     "output_type": "execute_result"
    }
   ],
   "source": [
    "import nltk\n",
    "nltk.download('punkt')\n",
    "nltk.download('stopwords')"
   ]
  },
  {
   "cell_type": "code",
   "execution_count": 6,
   "id": "c381d143",
   "metadata": {},
   "outputs": [
    {
     "data": {
      "text/plain": [
       "'Get the latest from TODAY Sign up for our newsletter  No one ever truly gets over losing a loved one, and Blake Shelton is no exception. He was just 14 when his older brother Richie died on Nov. 13, 1990. And, as Shelton noted in a tweet Monday, \"It changed my life forever.\"  Richie was 24 when he died in a car accident in the Sheltons\\' home state of Oklahoma. Two years ago, Shelton sent out a message for the 25th anniversary of his loss:  Richie, who was Blake\\'s half-brother (they shared a mother), was a passenger in a car that collided with a school bus in Ada, south of Oklahoma City.  Richie, driver Redena McManus and a 3-year-old boy, Christopher McManus, all died during or shortly after the collision, while the bus driver and passengers were uninjured, according to police reports.  The accident has clearly remained with Blake, who told 60 Minutes in 2014, \"I remember picking up the phone to call him a week after he was dead, to tell him something. I was picking up the phone to call him, to tell him something I just saw on TV or, and it was like constantly a shock to me that he was dead.\"  Blake Shelton playing at TODAY\\'s Halloween Extravaganza in New York City on Oct. 31. Getty Images  In 2011, Blake and his then-wife Miranda Lambert wrote a single called \"Over You,\" which was inspired by Richie.  Still, the two brothers had bonded despite the age difference; both shared a love of country music. \"His bedroom was right across the hallway from mine when I was little,\" Blake said in that interview. \"And he was listening to Hank Williams, Jr. or Waylon, Lynyrd Skynyrd or Bob Seeger. I just, whatever was popular really, Richie loved all music.  \"And I would be sitting there going, \\'Man, that guy\\'s my hero. That\\'s the coolest guy. He’s my big brother.\\'\"  Follow Randee Dawn on Twitter.'"
      ]
     },
     "execution_count": 6,
     "metadata": {},
     "output_type": "execute_result"
    }
   ],
   "source": [
    "train['text'].loc[0]"
   ]
  },
  {
   "cell_type": "code",
   "execution_count": 7,
   "id": "aa973cf1",
   "metadata": {},
   "outputs": [
    {
     "data": {
      "text/plain": [
       "'Get the latest from TODAY Sign up for our newsletter  No one ever truly gets over losing a loved one, and Blake Shelton is no exception. He was just 14 when his older brother Richie died on Nov. 13, 1990. And, as Shelton noted in a tweet Monday, \"It changed my life forever.\"  Richie was 24 when he died in a car accident in the Sheltons\\' home state of Oklahoma. Two years ago, Shelton sent out a message for the 25th anniversary of his loss:  Richie, who was Blake\\'s half-brother (they shared a mother), was a passenger in a car that collided with a school bus in Ada, south of Oklahoma City.  Richie, driver Redena McManus and a 3-year-old boy, Christopher McManus, all died during or shortly after the collision, while the bus driver and passengers were uninjured, according to police reports.  The accident has clearly remained with Blake, who told 60 Minutes in 2014, \"I remember picking up the phone to call him a week after he was dead, to tell him something. I was picking up the phone to call him, to tell him something I just saw on TV or, and it was like constantly a shock to me that he was dead.\"  Blake Shelton playing at TODAY\\'s Halloween Extravaganza in New York City on Oct. 31. Getty Images  In 2011, Blake and his then-wife Miranda Lambert wrote a single called \"Over You,\" which was inspired by Richie.  Still, the two brothers had bonded despite the age difference; both shared a love of country music. \"His bedroom was right across the hallway from mine when I was little,\" Blake said in that interview. \"And he was listening to Hank Williams, Jr. or Waylon, Lynyrd Skynyrd or Bob Seeger. I just, whatever was popular really, Richie loved all music.  \"And I would be sitting there going, \\'Man, that guy\\'s my hero. That\\'s the coolest guy. He’s my big brother.\\'\"  Follow Randee Dawn on Twitter.'"
      ]
     },
     "execution_count": 7,
     "metadata": {},
     "output_type": "execute_result"
    }
   ],
   "source": [
    "train.text.loc[ : 5].values.tolist()[0]"
   ]
  },
  {
   "cell_type": "code",
   "execution_count": 8,
   "id": "b52652a6",
   "metadata": {},
   "outputs": [],
   "source": [
    "from nltk.stem import PorterStemmer\n",
    "from nltk.corpus import stopwords\n",
    "from nltk.tokenize import sent_tokenize, word_tokenize, RegexpTokenizer\n",
    "from sklearn.feature_extraction.text import TfidfVectorizer"
   ]
  },
  {
   "cell_type": "code",
   "execution_count": 9,
   "id": "c094d7e9",
   "metadata": {},
   "outputs": [],
   "source": [
    "#data pre processing\n",
    "def preprocess_data(data):\n",
    "    #tokenization\n",
    "    token = RegexpTokenizer('\\s+', gaps = True)\n",
    "    text_data = []\n",
    "    for values in data.text:\n",
    "        tokenized_data = token.tokenize(values)\n",
    "        text_data.append(tokenized_data)\n",
    "\n",
    "    #stopwords removal\n",
    "    stp = stopwords.words('english')\n",
    "    clean_data = []\n",
    "    for data in text_data:\n",
    "        clean_text = [words.lower() for words in data if words.lower() not in stp]\n",
    "        clean_data.append(clean_text)\n",
    "\n",
    "    #stemming\n",
    "    ps = PorterStemmer()\n",
    "    stemmed_data = [] \n",
    "    for data in clean_data:\n",
    "        stemmed_text = [ps.stem(words) for words in data] \n",
    "        stemmed_data.append(stemmed_text)\n",
    "\n",
    "    #Flatten data\n",
    "    updated_data = []\n",
    "    for data in stemmed_data:\n",
    "        updated_data.append(\" \".join(data))\n",
    "\n",
    "    #TF-IDF is a statistical measure that evaluates how relevant a word is to a document in a collection of documents.    \n",
    "    tfidf = TfidfVectorizer()\n",
    "    tfidf_matrix = tfidf.fit_transform(updated_data)\n",
    "\n",
    "    return tfidf_matrix"
   ]
  },
  {
   "cell_type": "code",
   "execution_count": 44,
   "id": "c1daa255",
   "metadata": {},
   "outputs": [
    {
     "name": "stdout",
     "output_type": "stream",
     "text": [
      "  (0, 2)\t0.08304547985373997\n",
      "  (0, 85)\t0.08304547985373997\n",
      "  (0, 52)\t0.08304547985373997\n",
      "  (0, 11)\t0.08304547985373997\n",
      "  (0, 30)\t0.08304547985373997\n",
      "  (0, 60)\t0.08304547985373997\n",
      "  (0, 86)\t0.08304547985373997\n",
      "  (0, 3)\t0.08304547985373997\n",
      "  (0, 76)\t0.08304547985373997\n",
      "  (0, 82)\t0.08304547985373997\n",
      "  (0, 0)\t0.08304547985373997\n",
      "  (0, 41)\t0.08304547985373997\n",
      "  (0, 64)\t0.08304547985373997\n",
      "  (0, 25)\t0.08304547985373997\n",
      "  (0, 78)\t0.08304547985373997\n",
      "  (0, 79)\t0.08304547985373997\n",
      "  (0, 14)\t0.08304547985373997\n",
      "  (0, 6)\t0.08304547985373997\n",
      "  (0, 51)\t0.08304547985373997\n",
      "  (0, 63)\t0.08304547985373997\n",
      "  (0, 12)\t0.08304547985373997\n",
      "  (0, 90)\t0.08304547985373997\n",
      "  (0, 50)\t0.08304547985373997\n",
      "  (0, 16)\t0.08304547985373997\n",
      "  (0, 67)\t0.08304547985373997\n",
      "  :\t:\n",
      "  (0, 55)\t0.08304547985373997\n",
      "  (0, 94)\t0.08304547985373997\n",
      "  (0, 46)\t0.08304547985373997\n",
      "  (0, 21)\t0.08304547985373997\n",
      "  (0, 28)\t0.08304547985373997\n",
      "  (0, 42)\t0.2491364395612199\n",
      "  (0, 84)\t0.08304547985373997\n",
      "  (0, 10)\t0.08304547985373997\n",
      "  (0, 37)\t0.16609095970747995\n",
      "  (0, 29)\t0.08304547985373997\n",
      "  (0, 34)\t0.08304547985373997\n",
      "  (0, 40)\t0.16609095970747995\n",
      "  (0, 53)\t0.08304547985373997\n",
      "  (0, 48)\t0.08304547985373997\n",
      "  (0, 7)\t0.08304547985373997\n",
      "  (0, 1)\t0.08304547985373997\n",
      "  (0, 91)\t0.2491364395612199\n",
      "  (0, 20)\t0.08304547985373997\n",
      "  (0, 45)\t0.08304547985373997\n",
      "  (0, 74)\t0.08304547985373997\n",
      "  (0, 87)\t0.08304547985373997\n",
      "  (0, 4)\t0.08304547985373997\n",
      "  (0, 22)\t0.08304547985373997\n",
      "  (0, 39)\t0.16609095970747995\n",
      "  (0, 92)\t0.08304547985373997\n"
     ]
    }
   ],
   "source": [
    "print(preprocessed_data2)"
   ]
  },
  {
   "cell_type": "code",
   "execution_count": 10,
   "id": "f5993c1b",
   "metadata": {},
   "outputs": [],
   "source": [
    "train_len = train.shape[0]\n",
    "merged_data = pd.concat((train.drop('label', axis = 1), test.drop('id', axis = 1)), axis = 0).reset_index().drop('index', axis = 1)"
   ]
  },
  {
   "cell_type": "code",
   "execution_count": 11,
   "id": "0a483d7a",
   "metadata": {},
   "outputs": [],
   "source": [
    "preprocessed_data = preprocess_data(merged_data)"
   ]
  },
  {
   "cell_type": "code",
   "execution_count": 38,
   "id": "75710ac6",
   "metadata": {},
   "outputs": [],
   "source": [
    "preprocessed_data2 = preprocess_data(input_df)"
   ]
  },
  {
   "cell_type": "code",
   "execution_count": null,
   "id": "0ba86d70",
   "metadata": {},
   "outputs": [],
   "source": [
    "preprocessed_data2"
   ]
  },
  {
   "cell_type": "code",
   "execution_count": 12,
   "id": "ec70f53d",
   "metadata": {},
   "outputs": [],
   "source": [
    "train_data = preprocessed_data[ : train_len]\n",
    "test_data = preprocessed_data[train_len : ]"
   ]
  },
  {
   "cell_type": "code",
   "execution_count": 13,
   "id": "2cc6a285",
   "metadata": {},
   "outputs": [],
   "source": [
    "# Model selection\n",
    "from sklearn.model_selection import train_test_split \n",
    "X_train, X_test, y_train, y_test = train_test_split(train_data, train.label, test_size=0.2, random_state = 42)"
   ]
  },
  {
   "cell_type": "code",
   "execution_count": 14,
   "id": "4af65199",
   "metadata": {},
   "outputs": [
    {
     "name": "stdout",
     "output_type": "stream",
     "text": [
      "76.05210420841684\n",
      "66.33266533066133\n",
      "68.23647294589178\n",
      "Accuracy: 75.85%\n"
     ]
    }
   ],
   "source": [
    "# Logistic Regression\n",
    "\n",
    "from sklearn.linear_model import LogisticRegression\n",
    "\n",
    "logreg = LogisticRegression()\n",
    "logreg.fit(X_train, y_train)\n",
    "Accuracy = logreg.score(X_test, y_test)\n",
    "\n",
    "print(Accuracy*100)\n",
    "\n",
    "# Naive-Bayes\n",
    "\n",
    "from sklearn.naive_bayes import MultinomialNB\n",
    "\n",
    "NB = MultinomialNB()\n",
    "NB.fit(X_train, y_train)\n",
    "Accuracy = NB.score(X_test, y_test)\n",
    "\n",
    "print(Accuracy*100)\n",
    "\n",
    "# Decision Tree\n",
    "\n",
    "from sklearn.tree import DecisionTreeClassifier\n",
    "\n",
    "clf = DecisionTreeClassifier()\n",
    "clf.fit(X_train, y_train)\n",
    "Accuracy = clf.score(X_test, y_test)\n",
    "\n",
    "print(Accuracy*100)\n",
    "\n",
    "# Passive-Aggressive Classifier\n",
    "\n",
    "from sklearn.metrics import accuracy_score\n",
    "from sklearn.linear_model import PassiveAggressiveClassifier\n",
    "\n",
    "pac=PassiveAggressiveClassifier(max_iter=50)\n",
    "pac.fit(X_train,y_train)\n",
    "\n",
    "#Predict on the test set and calculate accuracy\n",
    "y_pred=pac.predict(X_test)\n",
    "score=accuracy_score(y_test,y_pred)\n",
    "\n",
    "print(f'Accuracy: {round(score*100,2)}%')"
   ]
  },
  {
   "cell_type": "code",
   "execution_count": null,
   "id": "9bf842a5",
   "metadata": {},
   "outputs": [],
   "source": [
    "pred = "
   ]
  },
  {
   "cell_type": "code",
   "execution_count": 49,
   "id": "06659cd2",
   "metadata": {},
   "outputs": [
    {
     "data": {
      "text/html": [
       "<div>\n",
       "<style scoped>\n",
       "    .dataframe tbody tr th:only-of-type {\n",
       "        vertical-align: middle;\n",
       "    }\n",
       "\n",
       "    .dataframe tbody tr th {\n",
       "        vertical-align: top;\n",
       "    }\n",
       "\n",
       "    .dataframe thead th {\n",
       "        text-align: right;\n",
       "    }\n",
       "</style>\n",
       "<table border=\"1\" class=\"dataframe\">\n",
       "  <thead>\n",
       "    <tr style=\"text-align: right;\">\n",
       "      <th></th>\n",
       "      <th>id</th>\n",
       "      <th>body</th>\n",
       "      <th>logistic_regression</th>\n",
       "    </tr>\n",
       "  </thead>\n",
       "  <tbody>\n",
       "    <tr>\n",
       "      <th>0</th>\n",
       "      <td>2</td>\n",
       "      <td>The 2017 Teen Choice Awards ceremony was held ...</td>\n",
       "      <td>0</td>\n",
       "    </tr>\n",
       "    <tr>\n",
       "      <th>1</th>\n",
       "      <td>3</td>\n",
       "      <td>The concert, part of “The Joshua Tree Tour,” w...</td>\n",
       "      <td>0</td>\n",
       "    </tr>\n",
       "    <tr>\n",
       "      <th>2</th>\n",
       "      <td>4</td>\n",
       "      <td>Selena Gomez refuses to talk to her mother abo...</td>\n",
       "      <td>1</td>\n",
       "    </tr>\n",
       "    <tr>\n",
       "      <th>3</th>\n",
       "      <td>5</td>\n",
       "      <td>This is worse than a lump of coal in your stoc...</td>\n",
       "      <td>1</td>\n",
       "    </tr>\n",
       "    <tr>\n",
       "      <th>4</th>\n",
       "      <td>6</td>\n",
       "      <td>Luann De Lesseps is going to rehab after her a...</td>\n",
       "      <td>0</td>\n",
       "    </tr>\n",
       "  </tbody>\n",
       "</table>\n",
       "</div>"
      ],
      "text/plain": [
       "   id                                               body logistic_regression\n",
       "0   2  The 2017 Teen Choice Awards ceremony was held ...                   0\n",
       "1   3  The concert, part of “The Joshua Tree Tour,” w...                   0\n",
       "2   4  Selena Gomez refuses to talk to her mother abo...                   1\n",
       "3   5  This is worse than a lump of coal in your stoc...                   1\n",
       "4   6  Luann De Lesseps is going to rehab after her a...                   0"
      ]
     },
     "execution_count": 49,
     "metadata": {},
     "output_type": "execute_result"
    }
   ],
   "source": [
    "# make predictions--> Logistic Regression\n",
    "predictions = logreg.predict(test_data)\n",
    "# Submissions\n",
    "test_ID = test.id\n",
    "test_text = test.text\n",
    "log_predict = pd.DataFrame({'id' : test_ID, 'body' : test_text, 'logistic_regression' : predictions})\n",
    "log_predict.head()"
   ]
  },
  {
   "cell_type": "code",
   "execution_count": 50,
   "id": "4bee20da",
   "metadata": {},
   "outputs": [
    {
     "data": {
      "text/html": [
       "<div>\n",
       "<style scoped>\n",
       "    .dataframe tbody tr th:only-of-type {\n",
       "        vertical-align: middle;\n",
       "    }\n",
       "\n",
       "    .dataframe tbody tr th {\n",
       "        vertical-align: top;\n",
       "    }\n",
       "\n",
       "    .dataframe thead th {\n",
       "        text-align: right;\n",
       "    }\n",
       "</style>\n",
       "<table border=\"1\" class=\"dataframe\">\n",
       "  <thead>\n",
       "    <tr style=\"text-align: right;\">\n",
       "      <th></th>\n",
       "      <th>id</th>\n",
       "      <th>body</th>\n",
       "      <th>logistic_regression</th>\n",
       "      <th>naive_bayes</th>\n",
       "    </tr>\n",
       "  </thead>\n",
       "  <tbody>\n",
       "    <tr>\n",
       "      <th>0</th>\n",
       "      <td>2</td>\n",
       "      <td>The 2017 Teen Choice Awards ceremony was held ...</td>\n",
       "      <td>0</td>\n",
       "      <td>0</td>\n",
       "    </tr>\n",
       "    <tr>\n",
       "      <th>1</th>\n",
       "      <td>3</td>\n",
       "      <td>The concert, part of “The Joshua Tree Tour,” w...</td>\n",
       "      <td>0</td>\n",
       "      <td>0</td>\n",
       "    </tr>\n",
       "    <tr>\n",
       "      <th>2</th>\n",
       "      <td>4</td>\n",
       "      <td>Selena Gomez refuses to talk to her mother abo...</td>\n",
       "      <td>1</td>\n",
       "      <td>1</td>\n",
       "    </tr>\n",
       "    <tr>\n",
       "      <th>3</th>\n",
       "      <td>5</td>\n",
       "      <td>This is worse than a lump of coal in your stoc...</td>\n",
       "      <td>1</td>\n",
       "      <td>1</td>\n",
       "    </tr>\n",
       "    <tr>\n",
       "      <th>4</th>\n",
       "      <td>6</td>\n",
       "      <td>Luann De Lesseps is going to rehab after her a...</td>\n",
       "      <td>0</td>\n",
       "      <td>0</td>\n",
       "    </tr>\n",
       "  </tbody>\n",
       "</table>\n",
       "</div>"
      ],
      "text/plain": [
       "   id                                               body logistic_regression  \\\n",
       "0   2  The 2017 Teen Choice Awards ceremony was held ...                   0   \n",
       "1   3  The concert, part of “The Joshua Tree Tour,” w...                   0   \n",
       "2   4  Selena Gomez refuses to talk to her mother abo...                   1   \n",
       "3   5  This is worse than a lump of coal in your stoc...                   1   \n",
       "4   6  Luann De Lesseps is going to rehab after her a...                   0   \n",
       "\n",
       "  naive_bayes  \n",
       "0           0  \n",
       "1           0  \n",
       "2           1  \n",
       "3           1  \n",
       "4           0  "
      ]
     },
     "execution_count": 50,
     "metadata": {},
     "output_type": "execute_result"
    }
   ],
   "source": [
    "# make predictions--> Naive Bayes\n",
    "predictions2 = NB.predict(test_data)\n",
    "# Submissions\n",
    "test_ID = test.id\n",
    "NB_predict = pd.DataFrame({'id2' : test_ID, 'naive_bayes' : predictions})\n",
    "NB_predict.head()\n",
    "log_predict = pd.concat([log_predict, NB_predict], axis = 1)\n",
    "del log_predict['id2']\n",
    "log_predict.head()"
   ]
  },
  {
   "cell_type": "code",
   "execution_count": 51,
   "id": "39118e4c",
   "metadata": {},
   "outputs": [
    {
     "data": {
      "text/html": [
       "<div>\n",
       "<style scoped>\n",
       "    .dataframe tbody tr th:only-of-type {\n",
       "        vertical-align: middle;\n",
       "    }\n",
       "\n",
       "    .dataframe tbody tr th {\n",
       "        vertical-align: top;\n",
       "    }\n",
       "\n",
       "    .dataframe thead th {\n",
       "        text-align: right;\n",
       "    }\n",
       "</style>\n",
       "<table border=\"1\" class=\"dataframe\">\n",
       "  <thead>\n",
       "    <tr style=\"text-align: right;\">\n",
       "      <th></th>\n",
       "      <th>id</th>\n",
       "      <th>body</th>\n",
       "      <th>logistic_regression</th>\n",
       "      <th>naive_bayes</th>\n",
       "      <th>decision_tree</th>\n",
       "    </tr>\n",
       "  </thead>\n",
       "  <tbody>\n",
       "    <tr>\n",
       "      <th>0</th>\n",
       "      <td>2</td>\n",
       "      <td>The 2017 Teen Choice Awards ceremony was held ...</td>\n",
       "      <td>0</td>\n",
       "      <td>0</td>\n",
       "      <td>0</td>\n",
       "    </tr>\n",
       "    <tr>\n",
       "      <th>1</th>\n",
       "      <td>3</td>\n",
       "      <td>The concert, part of “The Joshua Tree Tour,” w...</td>\n",
       "      <td>0</td>\n",
       "      <td>0</td>\n",
       "      <td>0</td>\n",
       "    </tr>\n",
       "    <tr>\n",
       "      <th>2</th>\n",
       "      <td>4</td>\n",
       "      <td>Selena Gomez refuses to talk to her mother abo...</td>\n",
       "      <td>1</td>\n",
       "      <td>1</td>\n",
       "      <td>1</td>\n",
       "    </tr>\n",
       "    <tr>\n",
       "      <th>3</th>\n",
       "      <td>5</td>\n",
       "      <td>This is worse than a lump of coal in your stoc...</td>\n",
       "      <td>1</td>\n",
       "      <td>1</td>\n",
       "      <td>1</td>\n",
       "    </tr>\n",
       "    <tr>\n",
       "      <th>4</th>\n",
       "      <td>6</td>\n",
       "      <td>Luann De Lesseps is going to rehab after her a...</td>\n",
       "      <td>0</td>\n",
       "      <td>0</td>\n",
       "      <td>0</td>\n",
       "    </tr>\n",
       "  </tbody>\n",
       "</table>\n",
       "</div>"
      ],
      "text/plain": [
       "   id                                               body logistic_regression  \\\n",
       "0   2  The 2017 Teen Choice Awards ceremony was held ...                   0   \n",
       "1   3  The concert, part of “The Joshua Tree Tour,” w...                   0   \n",
       "2   4  Selena Gomez refuses to talk to her mother abo...                   1   \n",
       "3   5  This is worse than a lump of coal in your stoc...                   1   \n",
       "4   6  Luann De Lesseps is going to rehab after her a...                   0   \n",
       "\n",
       "  naive_bayes decision_tree  \n",
       "0           0             0  \n",
       "1           0             0  \n",
       "2           1             1  \n",
       "3           1             1  \n",
       "4           0             0  "
      ]
     },
     "execution_count": 51,
     "metadata": {},
     "output_type": "execute_result"
    }
   ],
   "source": [
    "# make predictions--> Decision Tree\n",
    "predictions3 = clf.predict(test_data)\n",
    "# Submissions\n",
    "test_ID = test.id\n",
    "clf_predict = pd.DataFrame({'id2' : test_ID, 'decision_tree' : predictions})\n",
    "clf_predict.head()\n",
    "log_predict = pd.concat([log_predict, clf_predict], axis = 1)\n",
    "del log_predict['id2']\n",
    "log_predict.head()"
   ]
  },
  {
   "cell_type": "code",
   "execution_count": 52,
   "id": "b71b7734",
   "metadata": {},
   "outputs": [
    {
     "data": {
      "text/html": [
       "<div>\n",
       "<style scoped>\n",
       "    .dataframe tbody tr th:only-of-type {\n",
       "        vertical-align: middle;\n",
       "    }\n",
       "\n",
       "    .dataframe tbody tr th {\n",
       "        vertical-align: top;\n",
       "    }\n",
       "\n",
       "    .dataframe thead th {\n",
       "        text-align: right;\n",
       "    }\n",
       "</style>\n",
       "<table border=\"1\" class=\"dataframe\">\n",
       "  <thead>\n",
       "    <tr style=\"text-align: right;\">\n",
       "      <th></th>\n",
       "      <th>body</th>\n",
       "      <th>logistic_regression</th>\n",
       "      <th>naive_bayes</th>\n",
       "      <th>decision_tree</th>\n",
       "      <th>passive_aggressive_classifier</th>\n",
       "    </tr>\n",
       "  </thead>\n",
       "  <tbody>\n",
       "    <tr>\n",
       "      <th>0</th>\n",
       "      <td>The 2017 Teen Choice Awards ceremony was held ...</td>\n",
       "      <td>0</td>\n",
       "      <td>0</td>\n",
       "      <td>0</td>\n",
       "      <td>0</td>\n",
       "    </tr>\n",
       "    <tr>\n",
       "      <th>1</th>\n",
       "      <td>The concert, part of “The Joshua Tree Tour,” w...</td>\n",
       "      <td>0</td>\n",
       "      <td>0</td>\n",
       "      <td>0</td>\n",
       "      <td>0</td>\n",
       "    </tr>\n",
       "    <tr>\n",
       "      <th>2</th>\n",
       "      <td>Selena Gomez refuses to talk to her mother abo...</td>\n",
       "      <td>1</td>\n",
       "      <td>1</td>\n",
       "      <td>1</td>\n",
       "      <td>1</td>\n",
       "    </tr>\n",
       "    <tr>\n",
       "      <th>3</th>\n",
       "      <td>This is worse than a lump of coal in your stoc...</td>\n",
       "      <td>1</td>\n",
       "      <td>1</td>\n",
       "      <td>1</td>\n",
       "      <td>1</td>\n",
       "    </tr>\n",
       "    <tr>\n",
       "      <th>4</th>\n",
       "      <td>Luann De Lesseps is going to rehab after her a...</td>\n",
       "      <td>0</td>\n",
       "      <td>0</td>\n",
       "      <td>0</td>\n",
       "      <td>0</td>\n",
       "    </tr>\n",
       "  </tbody>\n",
       "</table>\n",
       "</div>"
      ],
      "text/plain": [
       "                                                body logistic_regression  \\\n",
       "0  The 2017 Teen Choice Awards ceremony was held ...                   0   \n",
       "1  The concert, part of “The Joshua Tree Tour,” w...                   0   \n",
       "2  Selena Gomez refuses to talk to her mother abo...                   1   \n",
       "3  This is worse than a lump of coal in your stoc...                   1   \n",
       "4  Luann De Lesseps is going to rehab after her a...                   0   \n",
       "\n",
       "  naive_bayes decision_tree passive_aggressive_classifier  \n",
       "0           0             0                             0  \n",
       "1           0             0                             0  \n",
       "2           1             1                             1  \n",
       "3           1             1                             1  \n",
       "4           0             0                             0  "
      ]
     },
     "execution_count": 52,
     "metadata": {},
     "output_type": "execute_result"
    }
   ],
   "source": [
    "# make predictions--> Passive Aggressive Classifier\n",
    "predictions4 = pac.predict(test_data)\n",
    "# Submissions\n",
    "test_ID = test.id\n",
    "pac_predict = pd.DataFrame({'id2' : test_ID, 'passive_aggressive_classifier' : predictions})\n",
    "pac_predict.head()\n",
    "log_predict = pd.concat([log_predict, pac_predict], axis = 1)\n",
    "del log_predict['id2']\n",
    "del log_predict['id']\n",
    "log_predict.head()"
   ]
  },
  {
   "cell_type": "code",
   "execution_count": 54,
   "id": "995f3811",
   "metadata": {},
   "outputs": [],
   "source": [
    "log_predict.to_csv(\"ml_model_predictions.csv\", index= True)"
   ]
  },
  {
   "cell_type": "code",
   "execution_count": 28,
   "id": "b90afb1c",
   "metadata": {},
   "outputs": [
    {
     "data": {
      "text/plain": [
       "Body                             object\n",
       "Logistic_Regression              object\n",
       "Naive_Bayes                      object\n",
       "Decision_Tree                    object\n",
       "Passive_Aggressive_Classifier    object\n",
       "dtype: object"
      ]
     },
     "execution_count": 28,
     "metadata": {},
     "output_type": "execute_result"
    }
   ],
   "source": [
    "log_predict.dtypes"
   ]
  },
  {
   "cell_type": "code",
   "execution_count": 53,
   "id": "fcd8f389",
   "metadata": {},
   "outputs": [],
   "source": [
    "from sqlalchemy import create_engine\n",
    "from sqlalchemy.orm import Session\n",
    "username = \"postgres\"\n",
    "password = \"group4winners\"\n",
    "server = \"finalprojgroup4.c26jlhodxytp.us-east-2.rds.amazonaws.com\"\n",
    "database = \"FinalProjGroup4\"\n",
    "# create engine to postgres\n",
    "engine = create_engine(f'postgresql+psycopg2://{username}:{password}@{server}/{database}')\n",
    "# Create our session (link) from Python to the DB\n",
    "session = Session(engine)\n",
    "table_name = \"prediction_data\"\n",
    "log_predict.to_sql(table_name, con=engine, if_exists='append')\n",
    "# Close Session\n",
    "session.close()"
   ]
  },
  {
   "cell_type": "code",
   "execution_count": null,
   "id": "e81dee1e",
   "metadata": {},
   "outputs": [],
   "source": []
  }
 ],
 "metadata": {
  "kernelspec": {
   "display_name": "Python [conda env:PythonAdv] *",
   "language": "python",
   "name": "conda-env-PythonAdv-py"
  },
  "language_info": {
   "codemirror_mode": {
    "name": "ipython",
    "version": 3
   },
   "file_extension": ".py",
   "mimetype": "text/x-python",
   "name": "python",
   "nbconvert_exporter": "python",
   "pygments_lexer": "ipython3",
   "version": "3.6.13"
  }
 },
 "nbformat": 4,
 "nbformat_minor": 5
}
