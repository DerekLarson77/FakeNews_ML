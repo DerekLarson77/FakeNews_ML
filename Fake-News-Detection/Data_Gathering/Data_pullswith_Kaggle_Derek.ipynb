{
 "cells": [
  {
   "cell_type": "code",
   "execution_count": 1,
   "metadata": {},
   "outputs": [],
   "source": [
    "import zipfile\n",
    "import os\n",
    "\n",
    "# Name of zip file that will be downloaded.\n",
    "#  The Kaggle API command will download specific zip name.\n",
    "#  Usually matching the last part of the API command.\n",
    "zip_name = \"fake-news-detection.zip\"\n",
    "# Check if local machine has this zip file already in location of notebook.\n",
    "# If it does not, it downloads it.\n",
    "if not os.path.exists(zip_name):\n",
    "    # Kaggle API command.\n",
    "    !kaggle datasets download -d jruvika/fake-news-detection\n",
    "\n",
    "# Name of folder that csv files will export to.\n",
    "folder_name = \"Resources\"\n",
    "# Check if local machine has this folder created already in location of notebook.\n",
    "# If it does not, it creates it.\n",
    "if not os.path.exists(folder_name):\n",
    "    os.makedirs(folder_name)\n",
    "    \n",
    "directory_to_extract_to = folder_name\n",
    "\n",
    "with zipfile.ZipFile(zip_name, 'r') as zip_ref:\n",
    "    zip_ref.extractall(directory_to_extract_to)\n"
   ]
  },
  {
   "cell_type": "code",
   "execution_count": 14,
   "metadata": {},
   "outputs": [
    {
     "name": "stdout",
     "output_type": "stream",
     "text": [
      "There are 4009 rows and 4 columns in the Raw table\n",
      "There are 2137 rows and 4 columns in the False table\n",
      "There are 1872 rows and 4 columns in the True table\n"
     ]
    },
    {
     "data": {
      "text/html": [
       "<div>\n",
       "<style scoped>\n",
       "    .dataframe tbody tr th:only-of-type {\n",
       "        vertical-align: middle;\n",
       "    }\n",
       "\n",
       "    .dataframe tbody tr th {\n",
       "        vertical-align: top;\n",
       "    }\n",
       "\n",
       "    .dataframe thead th {\n",
       "        text-align: right;\n",
       "    }\n",
       "</style>\n",
       "<table border=\"1\" class=\"dataframe\">\n",
       "  <thead>\n",
       "    <tr style=\"text-align: right;\">\n",
       "      <th></th>\n",
       "      <th>URLs</th>\n",
       "      <th>Headline</th>\n",
       "      <th>Body</th>\n",
       "      <th>Label</th>\n",
       "    </tr>\n",
       "  </thead>\n",
       "  <tbody>\n",
       "    <tr>\n",
       "      <th>5</th>\n",
       "      <td>http://beforeitsnews.com/sports/2017/09/jetnat...</td>\n",
       "      <td>JetNation FanDuel League; Week 4</td>\n",
       "      <td>JetNation FanDuel League; Week 4\\n% of readers...</td>\n",
       "      <td>0</td>\n",
       "    </tr>\n",
       "    <tr>\n",
       "      <th>10</th>\n",
       "      <td>https://www.activistpost.com/2017/09/u-s-presi...</td>\n",
       "      <td>U.S. President Donald Trump Quietly Signs Law ...</td>\n",
       "      <td>By Aaron Kesel\\nAs former White House chief of...</td>\n",
       "      <td>0</td>\n",
       "    </tr>\n",
       "    <tr>\n",
       "      <th>11</th>\n",
       "      <td>http://beforeitsnews.com/sports/2017/10/2017-f...</td>\n",
       "      <td>2017 Fantasy Football Team Defense Rankings - ...</td>\n",
       "      <td>2017 Fantasy Football Team Defense Rankings – ...</td>\n",
       "      <td>0</td>\n",
       "    </tr>\n",
       "    <tr>\n",
       "      <th>12</th>\n",
       "      <td>http://beforeitsnews.com/sports/2017/09/just-s...</td>\n",
       "      <td>Just Shut Up &amp; Play Some Damn Baseball!!</td>\n",
       "      <td>Just Shut Up &amp; Play Some Damn Baseball!!\\n(Bef...</td>\n",
       "      <td>0</td>\n",
       "    </tr>\n",
       "    <tr>\n",
       "      <th>14</th>\n",
       "      <td>http://beforeitsnews.com/sports/2017/10/107-ch...</td>\n",
       "      <td>10/7: Chuck Axed; HBD Brickyard, Adam, Moonlig...</td>\n",
       "      <td>A Potato Battery Can Light up a Room for Over ...</td>\n",
       "      <td>0</td>\n",
       "    </tr>\n",
       "  </tbody>\n",
       "</table>\n",
       "</div>"
      ],
      "text/plain": [
       "                                                 URLs  \\\n",
       "5   http://beforeitsnews.com/sports/2017/09/jetnat...   \n",
       "10  https://www.activistpost.com/2017/09/u-s-presi...   \n",
       "11  http://beforeitsnews.com/sports/2017/10/2017-f...   \n",
       "12  http://beforeitsnews.com/sports/2017/09/just-s...   \n",
       "14  http://beforeitsnews.com/sports/2017/10/107-ch...   \n",
       "\n",
       "                                             Headline  \\\n",
       "5                    JetNation FanDuel League; Week 4   \n",
       "10  U.S. President Donald Trump Quietly Signs Law ...   \n",
       "11  2017 Fantasy Football Team Defense Rankings - ...   \n",
       "12           Just Shut Up & Play Some Damn Baseball!!   \n",
       "14  10/7: Chuck Axed; HBD Brickyard, Adam, Moonlig...   \n",
       "\n",
       "                                                 Body  Label  \n",
       "5   JetNation FanDuel League; Week 4\\n% of readers...      0  \n",
       "10  By Aaron Kesel\\nAs former White House chief of...      0  \n",
       "11  2017 Fantasy Football Team Defense Rankings – ...      0  \n",
       "12  Just Shut Up & Play Some Damn Baseball!!\\n(Bef...      0  \n",
       "14  A Potato Battery Can Light up a Room for Over ...      0  "
      ]
     },
     "execution_count": 14,
     "metadata": {},
     "output_type": "execute_result"
    }
   ],
   "source": [
    "import pandas as pd\n",
    "\n",
    "df = pd.read_csv(\"Resources/data.csv\")\n",
    "\n",
    "df_false = df.loc[df[\"Label\"] == 0, :]\n",
    "df_true = df.loc[df[\"Label\"] == 1, :]\n",
    "\n",
    "nRow, nCol = df.shape\n",
    "print(f'There are {nRow} rows and {nCol} columns in the Raw table')\n",
    "\n",
    "nRow, nCol = df_false.shape\n",
    "print(f'There are {nRow} rows and {nCol} columns in the False table')\n",
    "\n",
    "nRow, nCol = df_true.shape\n",
    "print(f'There are {nRow} rows and {nCol} columns in the True table')\n",
    "\n",
    "df_false.head()"
   ]
  },
  {
   "cell_type": "code",
   "execution_count": 11,
   "metadata": {},
   "outputs": [
    {
     "data": {
      "text/plain": [
       "'http://beforeitsnews.com/sports/2017/09/jetnation-fanduel-league-week-4-2701323.html\\n\\n'"
      ]
     },
     "execution_count": 11,
     "metadata": {},
     "output_type": "execute_result"
    }
   ],
   "source": [
    "df_5 = df.iloc[5,0]\n",
    "df_5"
   ]
  },
  {
   "cell_type": "code",
   "execution_count": 16,
   "metadata": {},
   "outputs": [
    {
     "name": "stdout",
     "output_type": "stream",
     "text": [
      "(4009, 3) (4009,)\n"
     ]
    }
   ],
   "source": [
    "X = df.drop(\"Label\", axis=1)\n",
    "y = df[\"Label\"]\n",
    "print(X.shape, y.shape)"
   ]
  },
  {
   "cell_type": "code",
   "execution_count": 4,
   "metadata": {},
   "outputs": [],
   "source": [
    "##\n",
    "###DO NOT RE-RUN.  THIS WILL TAKE 5-10 MINUTES\n",
    "###\n",
    "\n",
    "from sqlalchemy import create_engine\n",
    "from sqlalchemy.orm import Session\n",
    "import pandas as pd\n",
    "\n",
    "df = pd.read_csv(\"Resources/data.csv\")\n",
    "\n",
    "username = \"postgres\"\n",
    "password = \"group4winners\"\n",
    "server = \"finalprojgroup4.c26jlhodxytp.us-east-2.rds.amazonaws.com\"\n",
    "database = \"FinalProjGroup4\"\n",
    "\n",
    "# create engine to police-violence-racial-equity postgres\n",
    "engine = create_engine(f'postgresql+psycopg2://{username}:{password}@{server}/{database}')\n",
    "\n",
    "# Create our session (link) from Python to the DB\n",
    "session = Session(engine)\n",
    "\n",
    "table_name = \"training_data\"\n",
    "\n",
    "df.to_sql(table_name, con=engine, if_exists='append')\n",
    "\n",
    "# Close Session\n",
    "session.close()"
   ]
  },
  {
   "cell_type": "code",
   "execution_count": null,
   "metadata": {},
   "outputs": [],
   "source": []
  }
 ],
 "metadata": {
  "kernelspec": {
   "display_name": "Python [conda env:PythonData]",
   "language": "python",
   "name": "conda-env-PythonData-py"
  },
  "language_info": {
   "codemirror_mode": {
    "name": "ipython",
    "version": 3
   },
   "file_extension": ".py",
   "mimetype": "text/x-python",
   "name": "python",
   "nbconvert_exporter": "python",
   "pygments_lexer": "ipython3",
   "version": "3.6.10"
  }
 },
 "nbformat": 4,
 "nbformat_minor": 4
}
