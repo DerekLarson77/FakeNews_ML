{
 "cells": [
  {
   "cell_type": "code",
   "execution_count": 2,
   "metadata": {},
   "outputs": [],
   "source": [
    "import zipfile\n",
    "import pandas as pd\n",
    "import os\n",
    "\n",
    "# Name of zip file that will be downloaded.\n",
    "#  The Kaggle API command will download specific zip name.\n",
    "#  Usually matching the last part of the API command.\n",
    "zip_name = \"fake-news-detection.zip\"\n",
    "# Check if local machine has this zip file already in location of notebook.\n",
    "# If it does not, it downloads it.\n",
    "if not os.path.exists(zip_name):\n",
    "    # Kaggle API command.\n",
    "    !kaggle competitions download -c fakenewskdd2020\n",
    "\n",
    "# Name of folder that csv files will export to.\n",
    "folder_name = \"Resources\"\n",
    "# Check if local machine has this folder created already in location of notebook.\n",
    "# If it does not, it creates it.\n",
    "if not os.path.exists(folder_name):\n",
    "    os.makedirs(folder_name)\n",
    "    \n",
    "directory_to_extract_to = folder_name\n",
    "\n",
    "with zipfile.ZipFile(zip_name, 'r') as zip_ref:\n",
    "    zip_ref.extractall(directory_to_extract_to)\n"
   ]
  },
  {
   "cell_type": "code",
   "execution_count": null,
   "metadata": {},
   "outputs": [],
   "source": []
  }
 ],
 "metadata": {
  "kernelspec": {
   "display_name": "Python 3",
   "language": "python",
   "name": "python3"
  },
  "language_info": {
   "codemirror_mode": {
    "name": "ipython",
    "version": 3
   },
   "file_extension": ".py",
   "mimetype": "text/x-python",
   "name": "python",
   "nbconvert_exporter": "python",
   "pygments_lexer": "ipython3",
   "version": "3.8.5"
  }
 },
 "nbformat": 4,
 "nbformat_minor": 4
}
